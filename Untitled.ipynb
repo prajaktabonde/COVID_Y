{
 "cells": [
  {
   "cell_type": "code",
   "execution_count": 29,
   "metadata": {},
   "outputs": [],
   "source": [
    "import pandas as pd\n",
    "from datetime import date\n",
    "\n",
    "\n",
    "data= pd.read_csv('Dataset_Cases - Sheet1.csv')"
   ]
  },
  {
   "cell_type": "code",
   "execution_count": 30,
   "metadata": {},
   "outputs": [
    {
     "data": {
      "text/html": [
       "<div>\n",
       "<style scoped>\n",
       "    .dataframe tbody tr th:only-of-type {\n",
       "        vertical-align: middle;\n",
       "    }\n",
       "\n",
       "    .dataframe tbody tr th {\n",
       "        vertical-align: top;\n",
       "    }\n",
       "\n",
       "    .dataframe thead th {\n",
       "        text-align: right;\n",
       "    }\n",
       "</style>\n",
       "<table border=\"1\" class=\"dataframe\">\n",
       "  <thead>\n",
       "    <tr style=\"text-align: right;\">\n",
       "      <th></th>\n",
       "      <th>Month</th>\n",
       "      <th>Date</th>\n",
       "      <th>Mumbai</th>\n",
       "      <th>Pune</th>\n",
       "      <th>Thane</th>\n",
       "      <th>Nagpur</th>\n",
       "      <th>Nashik</th>\n",
       "    </tr>\n",
       "  </thead>\n",
       "  <tbody>\n",
       "    <tr>\n",
       "      <th>0</th>\n",
       "      <td>May</td>\n",
       "      <td>1</td>\n",
       "      <td>7812</td>\n",
       "      <td>1316</td>\n",
       "      <td>1016</td>\n",
       "      <td>139</td>\n",
       "      <td>242</td>\n",
       "    </tr>\n",
       "    <tr>\n",
       "      <th>1</th>\n",
       "      <td>May</td>\n",
       "      <td>2</td>\n",
       "      <td>8359</td>\n",
       "      <td>1339</td>\n",
       "      <td>1086</td>\n",
       "      <td>146</td>\n",
       "      <td>262</td>\n",
       "    </tr>\n",
       "    <tr>\n",
       "      <th>2</th>\n",
       "      <td>May</td>\n",
       "      <td>3</td>\n",
       "      <td>8800</td>\n",
       "      <td>1396</td>\n",
       "      <td>1142</td>\n",
       "      <td>152</td>\n",
       "      <td>284</td>\n",
       "    </tr>\n",
       "    <tr>\n",
       "      <th>3</th>\n",
       "      <td>May</td>\n",
       "      <td>4</td>\n",
       "      <td>9310</td>\n",
       "      <td>2018</td>\n",
       "      <td>1238</td>\n",
       "      <td>174</td>\n",
       "      <td>382</td>\n",
       "    </tr>\n",
       "    <tr>\n",
       "      <th>4</th>\n",
       "      <td>May</td>\n",
       "      <td>5</td>\n",
       "      <td>10714</td>\n",
       "      <td>2087</td>\n",
       "      <td>1616</td>\n",
       "      <td>182</td>\n",
       "      <td>463</td>\n",
       "    </tr>\n",
       "  </tbody>\n",
       "</table>\n",
       "</div>"
      ],
      "text/plain": [
       "  Month  Date  Mumbai  Pune  Thane  Nagpur  Nashik\n",
       "0   May     1    7812  1316   1016     139     242\n",
       "1   May     2    8359  1339   1086     146     262\n",
       "2   May     3    8800  1396   1142     152     284\n",
       "3   May     4    9310  2018   1238     174     382\n",
       "4   May     5   10714  2087   1616     182     463"
      ]
     },
     "execution_count": 30,
     "metadata": {},
     "output_type": "execute_result"
    }
   ],
   "source": [
    "data.head()"
   ]
  },
  {
   "cell_type": "code",
   "execution_count": 31,
   "metadata": {},
   "outputs": [],
   "source": [
    "mumbai=data['Mumbai']\n",
    "pune=data['Pune']\n",
    "nagpur=data['Nagpur']\n",
    "nashik=data['Nashik']\n",
    "thane=data['Thane']\n",
    "\n"
   ]
  },
  {
   "cell_type": "code",
   "execution_count": 32,
   "metadata": {},
   "outputs": [],
   "source": [
    "today = date.today()\n",
    "date=pd.date_range(start='5/1/2020', end=today)"
   ]
  },
  {
   "cell_type": "code",
   "execution_count": null,
   "metadata": {},
   "outputs": [],
   "source": []
  },
  {
   "cell_type": "code",
   "execution_count": 34,
   "metadata": {},
   "outputs": [
    {
     "data": {
      "text/plain": [
       "(16,)"
      ]
     },
     "execution_count": 34,
     "metadata": {},
     "output_type": "execute_result"
    }
   ],
   "source": [
    "mumbai.shape"
   ]
  },
  {
   "cell_type": "code",
   "execution_count": 53,
   "metadata": {},
   "outputs": [
    {
     "data": {
      "text/plain": [
       "['01-05-2014',\n",
       " '02-05-2014',\n",
       " '03-05-2014',\n",
       " '04-05-2014',\n",
       " '05-05-2014',\n",
       " '06-05-2014',\n",
       " '07-05-2014',\n",
       " '08-05-2014',\n",
       " '09-05-2014',\n",
       " '10-05-2014',\n",
       " '11-05-2014',\n",
       " '12-05-2014',\n",
       " '13-05-2014',\n",
       " '14-05-2014',\n",
       " '15-05-2014',\n",
       " '16-05-2014']"
      ]
     },
     "execution_count": 53,
     "metadata": {},
     "output_type": "execute_result"
    }
   ],
   "source": [
    "import datetime\n",
    "\n",
    "start = datetime.datetime.strptime(\"1-05-2014\", \"%d-%m-%Y\")\n",
    "end = datetime.datetime.strptime(\"17-05-2014\", \"%d-%m-%Y\")\n",
    "date_generated = [start + datetime.timedelta(days=x) for x in range(0, (end-start).days)]\n",
    "dates=[]\n",
    "for date in date_generated:\n",
    "    dates.append(date.strftime(\"%d-%m-%Y\"))\n",
    "dates"
   ]
  },
  {
   "cell_type": "code",
   "execution_count": null,
   "metadata": {},
   "outputs": [],
   "source": []
  },
  {
   "cell_type": "code",
   "execution_count": null,
   "metadata": {},
   "outputs": [],
   "source": []
  }
 ],
 "metadata": {
  "kernelspec": {
   "display_name": "Python 3",
   "language": "python",
   "name": "python3"
  },
  "language_info": {
   "codemirror_mode": {
    "name": "ipython",
    "version": 3
   },
   "file_extension": ".py",
   "mimetype": "text/x-python",
   "name": "python",
   "nbconvert_exporter": "python",
   "pygments_lexer": "ipython3",
   "version": "3.6.9"
  }
 },
 "nbformat": 4,
 "nbformat_minor": 4
}
